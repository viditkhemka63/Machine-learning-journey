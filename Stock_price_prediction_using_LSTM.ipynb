{
  "nbformat": 4,
  "nbformat_minor": 0,
  "metadata": {
    "colab": {
      "name": "Stock price prediction using LSTM.ipynb",
      "version": "0.3.2",
      "provenance": [],
      "collapsed_sections": [],
      "include_colab_link": true
    },
    "kernelspec": {
      "name": "python3",
      "display_name": "Python 3"
    }
  },
  "cells": [
    {
      "cell_type": "markdown",
      "metadata": {
        "id": "view-in-github",
        "colab_type": "text"
      },
      "source": [
        "<a href=\"https://colab.research.google.com/github/viditkhemka63/Machine-learning-journey/blob/master/Stock_price_prediction_using_LSTM.ipynb\" target=\"_parent\"><img src=\"https://colab.research.google.com/assets/colab-badge.svg\" alt=\"Open In Colab\"/></a>"
      ]
    },
    {
      "cell_type": "code",
      "metadata": {
        "id": "1mVkRLsbPpk7",
        "colab_type": "code",
        "colab": {
          "resources": {
            "http://localhost:8080/nbextensions/google.colab/files.js": {
              "data": "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",
              "ok": true,
              "headers": [
                [
                  "content-type",
                  "application/javascript"
                ]
              ],
              "status": 200,
              "status_text": ""
            }
          },
          "base_uri": "https://localhost:8080/",
          "height": 74
        },
        "outputId": "4d5b2dfc-1342-442c-f869-6ef0446d98db"
      },
      "source": [
        "from google.colab import files\n",
        "uploaded = files.upload()"
      ],
      "execution_count": 2,
      "outputs": [
        {
          "output_type": "display_data",
          "data": {
            "text/html": [
              "\n",
              "     <input type=\"file\" id=\"files-678b589f-8e26-421a-9ebf-ddf6dea958f6\" name=\"files[]\" multiple disabled />\n",
              "     <output id=\"result-678b589f-8e26-421a-9ebf-ddf6dea958f6\">\n",
              "      Upload widget is only available when the cell has been executed in the\n",
              "      current browser session. Please rerun this cell to enable.\n",
              "      </output>\n",
              "      <script src=\"/nbextensions/google.colab/files.js\"></script> "
            ],
            "text/plain": [
              "<IPython.core.display.HTML object>"
            ]
          },
          "metadata": {
            "tags": []
          }
        },
        {
          "output_type": "stream",
          "text": [
            "Saving HistoricalQuotes (2).csv to HistoricalQuotes (2).csv\n"
          ],
          "name": "stdout"
        }
      ]
    },
    {
      "cell_type": "code",
      "metadata": {
        "id": "BOodeD70QnpF",
        "colab_type": "code",
        "colab": {}
      },
      "source": [
        "import numpy as np\n",
        "import pandas as pd\n",
        "import matplotlib.pyplot as plt\n",
        "%matplotlib inline"
      ],
      "execution_count": 0,
      "outputs": []
    },
    {
      "cell_type": "code",
      "metadata": {
        "id": "uBx_CU8QQsTf",
        "colab_type": "code",
        "colab": {
          "base_uri": "https://localhost:8080/",
          "height": 204
        },
        "outputId": "43306bea-95b0-451a-c530-d6003ba648ff"
      },
      "source": [
        "stock_data = pd.read_csv('HistoricalQuotes (2).csv')\n",
        "stock_data.head()"
      ],
      "execution_count": 4,
      "outputs": [
        {
          "output_type": "execute_result",
          "data": {
            "text/html": [
              "<div>\n",
              "<style scoped>\n",
              "    .dataframe tbody tr th:only-of-type {\n",
              "        vertical-align: middle;\n",
              "    }\n",
              "\n",
              "    .dataframe tbody tr th {\n",
              "        vertical-align: top;\n",
              "    }\n",
              "\n",
              "    .dataframe thead th {\n",
              "        text-align: right;\n",
              "    }\n",
              "</style>\n",
              "<table border=\"1\" class=\"dataframe\">\n",
              "  <thead>\n",
              "    <tr style=\"text-align: right;\">\n",
              "      <th></th>\n",
              "      <th>date</th>\n",
              "      <th>close</th>\n",
              "      <th>volume</th>\n",
              "      <th>open</th>\n",
              "      <th>high</th>\n",
              "      <th>low</th>\n",
              "    </tr>\n",
              "  </thead>\n",
              "  <tbody>\n",
              "    <tr>\n",
              "      <th>0</th>\n",
              "      <td>2019/06/14</td>\n",
              "      <td>1085.35</td>\n",
              "      <td>1111643.0</td>\n",
              "      <td>1086.42</td>\n",
              "      <td>1092.69</td>\n",
              "      <td>1080.1721</td>\n",
              "    </tr>\n",
              "    <tr>\n",
              "      <th>1</th>\n",
              "      <td>2019/06/13</td>\n",
              "      <td>1088.77</td>\n",
              "      <td>1058000.0</td>\n",
              "      <td>1083.64</td>\n",
              "      <td>1094.17</td>\n",
              "      <td>1080.1500</td>\n",
              "    </tr>\n",
              "    <tr>\n",
              "      <th>2</th>\n",
              "      <td>2019/06/12</td>\n",
              "      <td>1077.03</td>\n",
              "      <td>1061255.0</td>\n",
              "      <td>1078.00</td>\n",
              "      <td>1080.93</td>\n",
              "      <td>1067.5400</td>\n",
              "    </tr>\n",
              "    <tr>\n",
              "      <th>3</th>\n",
              "      <td>2019/06/11</td>\n",
              "      <td>1078.72</td>\n",
              "      <td>1437063.0</td>\n",
              "      <td>1093.98</td>\n",
              "      <td>1101.99</td>\n",
              "      <td>1077.6025</td>\n",
              "    </tr>\n",
              "    <tr>\n",
              "      <th>4</th>\n",
              "      <td>2019/06/10</td>\n",
              "      <td>1080.38</td>\n",
              "      <td>1464248.0</td>\n",
              "      <td>1072.98</td>\n",
              "      <td>1092.66</td>\n",
              "      <td>1072.3216</td>\n",
              "    </tr>\n",
              "  </tbody>\n",
              "</table>\n",
              "</div>"
            ],
            "text/plain": [
              "         date    close     volume     open     high        low\n",
              "0  2019/06/14  1085.35  1111643.0  1086.42  1092.69  1080.1721\n",
              "1  2019/06/13  1088.77  1058000.0  1083.64  1094.17  1080.1500\n",
              "2  2019/06/12  1077.03  1061255.0  1078.00  1080.93  1067.5400\n",
              "3  2019/06/11  1078.72  1437063.0  1093.98  1101.99  1077.6025\n",
              "4  2019/06/10  1080.38  1464248.0  1072.98  1092.66  1072.3216"
            ]
          },
          "metadata": {
            "tags": []
          },
          "execution_count": 4
        }
      ]
    },
    {
      "cell_type": "code",
      "metadata": {
        "id": "6r9AiymZQ-ws",
        "colab_type": "code",
        "colab": {
          "base_uri": "https://localhost:8080/",
          "height": 204
        },
        "outputId": "6216f355-d74f-4748-bd5e-6885374df1d8"
      },
      "source": [
        "stock_data.info()"
      ],
      "execution_count": 5,
      "outputs": [
        {
          "output_type": "stream",
          "text": [
            "<class 'pandas.core.frame.DataFrame'>\n",
            "RangeIndex: 1259 entries, 0 to 1258\n",
            "Data columns (total 6 columns):\n",
            "date      1259 non-null object\n",
            "close     1259 non-null float64\n",
            "volume    1259 non-null float64\n",
            "open      1259 non-null float64\n",
            "high      1259 non-null float64\n",
            "low       1259 non-null float64\n",
            "dtypes: float64(5), object(1)\n",
            "memory usage: 59.1+ KB\n"
          ],
          "name": "stdout"
        }
      ]
    },
    {
      "cell_type": "code",
      "metadata": {
        "id": "mVbtUnU4RGdK",
        "colab_type": "code",
        "colab": {
          "base_uri": "https://localhost:8080/",
          "height": 297
        },
        "outputId": "dbfcc721-d1aa-4561-a896-bfbc5016c03d"
      },
      "source": [
        "stock_data.describe()"
      ],
      "execution_count": 6,
      "outputs": [
        {
          "output_type": "execute_result",
          "data": {
            "text/html": [
              "<div>\n",
              "<style scoped>\n",
              "    .dataframe tbody tr th:only-of-type {\n",
              "        vertical-align: middle;\n",
              "    }\n",
              "\n",
              "    .dataframe tbody tr th {\n",
              "        vertical-align: top;\n",
              "    }\n",
              "\n",
              "    .dataframe thead th {\n",
              "        text-align: right;\n",
              "    }\n",
              "</style>\n",
              "<table border=\"1\" class=\"dataframe\">\n",
              "  <thead>\n",
              "    <tr style=\"text-align: right;\">\n",
              "      <th></th>\n",
              "      <th>close</th>\n",
              "      <th>volume</th>\n",
              "      <th>open</th>\n",
              "      <th>high</th>\n",
              "      <th>low</th>\n",
              "    </tr>\n",
              "  </thead>\n",
              "  <tbody>\n",
              "    <tr>\n",
              "      <th>count</th>\n",
              "      <td>1259.000000</td>\n",
              "      <td>1.259000e+03</td>\n",
              "      <td>1259.000000</td>\n",
              "      <td>1259.000000</td>\n",
              "      <td>1259.000000</td>\n",
              "    </tr>\n",
              "    <tr>\n",
              "      <th>mean</th>\n",
              "      <td>840.252954</td>\n",
              "      <td>1.743789e+06</td>\n",
              "      <td>840.135411</td>\n",
              "      <td>847.263777</td>\n",
              "      <td>832.695712</td>\n",
              "    </tr>\n",
              "    <tr>\n",
              "      <th>std</th>\n",
              "      <td>224.487865</td>\n",
              "      <td>8.570756e+05</td>\n",
              "      <td>224.217233</td>\n",
              "      <td>226.572998</td>\n",
              "      <td>222.076207</td>\n",
              "    </tr>\n",
              "    <tr>\n",
              "      <th>min</th>\n",
              "      <td>492.550000</td>\n",
              "      <td>5.272230e+05</td>\n",
              "      <td>494.650000</td>\n",
              "      <td>495.976000</td>\n",
              "      <td>487.560000</td>\n",
              "    </tr>\n",
              "    <tr>\n",
              "      <th>25%</th>\n",
              "      <td>641.915000</td>\n",
              "      <td>1.229003e+06</td>\n",
              "      <td>639.890000</td>\n",
              "      <td>645.684500</td>\n",
              "      <td>632.200000</td>\n",
              "    </tr>\n",
              "    <tr>\n",
              "      <th>50%</th>\n",
              "      <td>791.550000</td>\n",
              "      <td>1.524783e+06</td>\n",
              "      <td>792.360000</td>\n",
              "      <td>796.860000</td>\n",
              "      <td>787.100000</td>\n",
              "    </tr>\n",
              "    <tr>\n",
              "      <th>75%</th>\n",
              "      <td>1049.260000</td>\n",
              "      <td>1.985548e+06</td>\n",
              "      <td>1050.085000</td>\n",
              "      <td>1062.060000</td>\n",
              "      <td>1038.410000</td>\n",
              "    </tr>\n",
              "    <tr>\n",
              "      <th>max</th>\n",
              "      <td>1287.580000</td>\n",
              "      <td>1.115350e+07</td>\n",
              "      <td>1274.000000</td>\n",
              "      <td>1289.270000</td>\n",
              "      <td>1266.294900</td>\n",
              "    </tr>\n",
              "  </tbody>\n",
              "</table>\n",
              "</div>"
            ],
            "text/plain": [
              "             close        volume         open         high          low\n",
              "count  1259.000000  1.259000e+03  1259.000000  1259.000000  1259.000000\n",
              "mean    840.252954  1.743789e+06   840.135411   847.263777   832.695712\n",
              "std     224.487865  8.570756e+05   224.217233   226.572998   222.076207\n",
              "min     492.550000  5.272230e+05   494.650000   495.976000   487.560000\n",
              "25%     641.915000  1.229003e+06   639.890000   645.684500   632.200000\n",
              "50%     791.550000  1.524783e+06   792.360000   796.860000   787.100000\n",
              "75%    1049.260000  1.985548e+06  1050.085000  1062.060000  1038.410000\n",
              "max    1287.580000  1.115350e+07  1274.000000  1289.270000  1266.294900"
            ]
          },
          "metadata": {
            "tags": []
          },
          "execution_count": 6
        }
      ]
    },
    {
      "cell_type": "code",
      "metadata": {
        "id": "rHTx_hWXRJ79",
        "colab_type": "code",
        "colab": {
          "base_uri": "https://localhost:8080/",
          "height": 204
        },
        "outputId": "ebc0c83b-1387-4614-9d70-ef6dd877f314"
      },
      "source": [
        "import math\n",
        "\n",
        "stock_data['average'] = ( stock_data['high'] + stock_data['low'])/2\n",
        "stock_data.head()"
      ],
      "execution_count": 7,
      "outputs": [
        {
          "output_type": "execute_result",
          "data": {
            "text/html": [
              "<div>\n",
              "<style scoped>\n",
              "    .dataframe tbody tr th:only-of-type {\n",
              "        vertical-align: middle;\n",
              "    }\n",
              "\n",
              "    .dataframe tbody tr th {\n",
              "        vertical-align: top;\n",
              "    }\n",
              "\n",
              "    .dataframe thead th {\n",
              "        text-align: right;\n",
              "    }\n",
              "</style>\n",
              "<table border=\"1\" class=\"dataframe\">\n",
              "  <thead>\n",
              "    <tr style=\"text-align: right;\">\n",
              "      <th></th>\n",
              "      <th>date</th>\n",
              "      <th>close</th>\n",
              "      <th>volume</th>\n",
              "      <th>open</th>\n",
              "      <th>high</th>\n",
              "      <th>low</th>\n",
              "      <th>average</th>\n",
              "    </tr>\n",
              "  </thead>\n",
              "  <tbody>\n",
              "    <tr>\n",
              "      <th>0</th>\n",
              "      <td>2019/06/14</td>\n",
              "      <td>1085.35</td>\n",
              "      <td>1111643.0</td>\n",
              "      <td>1086.42</td>\n",
              "      <td>1092.69</td>\n",
              "      <td>1080.1721</td>\n",
              "      <td>1086.43105</td>\n",
              "    </tr>\n",
              "    <tr>\n",
              "      <th>1</th>\n",
              "      <td>2019/06/13</td>\n",
              "      <td>1088.77</td>\n",
              "      <td>1058000.0</td>\n",
              "      <td>1083.64</td>\n",
              "      <td>1094.17</td>\n",
              "      <td>1080.1500</td>\n",
              "      <td>1087.16000</td>\n",
              "    </tr>\n",
              "    <tr>\n",
              "      <th>2</th>\n",
              "      <td>2019/06/12</td>\n",
              "      <td>1077.03</td>\n",
              "      <td>1061255.0</td>\n",
              "      <td>1078.00</td>\n",
              "      <td>1080.93</td>\n",
              "      <td>1067.5400</td>\n",
              "      <td>1074.23500</td>\n",
              "    </tr>\n",
              "    <tr>\n",
              "      <th>3</th>\n",
              "      <td>2019/06/11</td>\n",
              "      <td>1078.72</td>\n",
              "      <td>1437063.0</td>\n",
              "      <td>1093.98</td>\n",
              "      <td>1101.99</td>\n",
              "      <td>1077.6025</td>\n",
              "      <td>1089.79625</td>\n",
              "    </tr>\n",
              "    <tr>\n",
              "      <th>4</th>\n",
              "      <td>2019/06/10</td>\n",
              "      <td>1080.38</td>\n",
              "      <td>1464248.0</td>\n",
              "      <td>1072.98</td>\n",
              "      <td>1092.66</td>\n",
              "      <td>1072.3216</td>\n",
              "      <td>1082.49080</td>\n",
              "    </tr>\n",
              "  </tbody>\n",
              "</table>\n",
              "</div>"
            ],
            "text/plain": [
              "         date    close     volume     open     high        low     average\n",
              "0  2019/06/14  1085.35  1111643.0  1086.42  1092.69  1080.1721  1086.43105\n",
              "1  2019/06/13  1088.77  1058000.0  1083.64  1094.17  1080.1500  1087.16000\n",
              "2  2019/06/12  1077.03  1061255.0  1078.00  1080.93  1067.5400  1074.23500\n",
              "3  2019/06/11  1078.72  1437063.0  1093.98  1101.99  1077.6025  1089.79625\n",
              "4  2019/06/10  1080.38  1464248.0  1072.98  1092.66  1072.3216  1082.49080"
            ]
          },
          "metadata": {
            "tags": []
          },
          "execution_count": 7
        }
      ]
    },
    {
      "cell_type": "code",
      "metadata": {
        "id": "gVz84A6KRo5s",
        "colab_type": "code",
        "colab": {}
      },
      "source": [
        "input_feature = stock_data.iloc[:, [2,6]].values\n",
        "input_data = input_feature"
      ],
      "execution_count": 0,
      "outputs": []
    },
    {
      "cell_type": "code",
      "metadata": {
        "id": "6DtzJQp6Svl5",
        "colab_type": "code",
        "colab": {
          "base_uri": "https://localhost:8080/",
          "height": 34
        },
        "outputId": "9ef3a211-6cd5-4b53-d0e2-1db5a64c7111"
      },
      "source": [
        "print( input_feature[:,0] )"
      ],
      "execution_count": 10,
      "outputs": [
        {
          "output_type": "stream",
          "text": [
            "[1111643. 1058000. 1061255. ... 1734731. 1440535. 1697866.]\n"
          ],
          "name": "stdout"
        }
      ]
    },
    {
      "cell_type": "code",
      "metadata": {
        "id": "wCuFE58pSFCQ",
        "colab_type": "code",
        "colab": {
          "base_uri": "https://localhost:8080/",
          "height": 295
        },
        "outputId": "c96186df-e46c-4adf-9fb5-b456763ecc97"
      },
      "source": [
        "plt.plot(input_feature[:,0])\n",
        "plt.title('Volume of stock sold')\n",
        "plt.xlabel('Time Latest -> old')\n",
        "plt.ylabel('Volume of stock tradded')\n",
        "plt.show()"
      ],
      "execution_count": 9,
      "outputs": [
        {
          "output_type": "display_data",
          "data": {
            "image/png": "[encoded data removed]",
            "text/plain": [
              "<Figure size 432x288 with 1 Axes>"
            ]
          },
          "metadata": {
            "tags": []
          }
        }
      ]
    },
    {
      "cell_type": "code",
      "metadata": {
        "id": "SiPJamUGSbcR",
        "colab_type": "code",
        "colab": {
          "base_uri": "https://localhost:8080/",
          "height": 347
        },
        "outputId": "73cfaa61-2820-4d06-816a-ce1b40cfe008"
      },
      "source": [
        "import seaborn as sns\n",
        "sns.tsplot(input_feature[:,0] ,color=\"indianred\")"
      ],
      "execution_count": 13,
      "outputs": [
        {
          "output_type": "stream",
          "text": [
            "/usr/local/lib/python3.6/dist-packages/seaborn/timeseries.py:183: UserWarning: The `tsplot` function is deprecated and will be removed in a future release. Please update your code to use the new `lineplot` function.\n",
            "  warnings.warn(msg, UserWarning)\n"
          ],
          "name": "stderr"
        },
        {
          "output_type": "execute_result",
          "data": {
            "text/plain": [
              "<matplotlib.axes._subplots.AxesSubplot at 0x7fabcd592390>"
            ]
          },
          "metadata": {
            "tags": []
          },
          "execution_count": 13
        },
        {
          "output_type": "display_data",
          "data": {
            "image/png": "[encoded data removed]",
            "text/plain": [
              "<Figure size 432x288 with 1 Axes>"
            ]
          },
          "metadata": {
            "tags": []
          }
        }
      ]
    },
    {
      "cell_type": "code",
      "metadata": {
        "id": "STP_mayHTacG",
        "colab_type": "code",
        "colab": {
          "base_uri": "https://localhost:8080/",
          "height": 295
        },
        "outputId": "8a89b429-2000-4b32-9cab-ae282696aa7d"
      },
      "source": [
        "plt.plot(input_feature[:,1], color='blue')\n",
        "plt.title(\"Google Stock Prices\")\n",
        "plt.xlabel(\"Time (latest-> oldest)\")\n",
        "plt.ylabel(\"Stock Opening Price\")\n",
        "plt.show()"
      ],
      "execution_count": 14,
      "outputs": [
        {
          "output_type": "display_data",
          "data": {
            "image/png": "[encoded data removed]",
            "text/plain": [
              "<Figure size 432x288 with 1 Axes>"
            ]
          },
          "metadata": {
            "tags": []
          }
        }
      ]
    },
    {
      "cell_type": "code",
      "metadata": {
        "id": "SiiyvtIHTSH0",
        "colab_type": "code",
        "colab": {}
      },
      "source": [
        "from sklearn.preprocessing import MinMaxScaler\n",
        "\n",
        "sc = MinMaxScaler(feature_range=(0,1))\n",
        "input_data[:,0:2] = sc.fit_transform(input_feature[:,:])"
      ],
      "execution_count": 0,
      "outputs": []
    },
    {
      "cell_type": "code",
      "metadata": {
        "id": "9OhcuH_KUEHm",
        "colab_type": "code",
        "colab": {}
      },
      "source": [
        "lookback= 50\n",
        "\n",
        "test_size=int(.3 * len(stock_data))\n",
        "X=[]\n",
        "y=[]\n",
        "for i in range(len(stock_data)-lookback-1):\n",
        "    t=[]\n",
        "    for j in range(0,lookback):\n",
        "        \n",
        "        t.append(input_data[[(i+j)], :])\n",
        "    X.append(t)\n",
        "    y.append(input_data[i+ lookback,1])"
      ],
      "execution_count": 0,
      "outputs": []
    },
    {
      "cell_type": "code",
      "metadata": {
        "id": "hEjbebxXURwd",
        "colab_type": "code",
        "colab": {
          "base_uri": "https://localhost:8080/",
          "height": 51
        },
        "outputId": "d396b82a-a0f5-4a74-cc37-69e40f7d379f"
      },
      "source": [
        "X, y= np.array(X), np.array(y)\n",
        "X_test = X[:test_size+lookback]\n",
        "X = X.reshape(X.shape[0],lookback, 2)\n",
        "X_test = X_test.reshape(X_test.shape[0],lookback, 2)\n",
        "print(X.shape)\n",
        "print(X_test.shape)"
      ],
      "execution_count": 17,
      "outputs": [
        {
          "output_type": "stream",
          "text": [
            "(1208, 50, 2)\n",
            "(427, 50, 2)\n"
          ],
          "name": "stdout"
        }
      ]
    },
    {
      "cell_type": "code",
      "metadata": {
        "id": "eAHIeH-WVUZ-",
        "colab_type": "code",
        "colab": {
          "base_uri": "https://localhost:8080/",
          "height": 377
        },
        "outputId": "dde5c006-773d-4fa4-84ad-ff260f6b0e52"
      },
      "source": [
        "!pip install tensorflow"
      ],
      "execution_count": 20,
      "outputs": [
        {
          "output_type": "stream",
          "text": [
            "Requirement already satisfied: tensorflow in /usr/local/lib/python3.6/dist-packages (1.14.0rc1)\n",
            "Requirement already satisfied: tensorflow-estimator<1.15.0rc0,>=1.14.0rc0 in /usr/local/lib/python3.6/dist-packages (from tensorflow) (1.14.0rc0)\n",
            "Requirement already satisfied: grpcio>=1.8.6 in /usr/local/lib/python3.6/dist-packages (from tensorflow) (1.15.0)\n",
            "Requirement already satisfied: absl-py>=0.7.0 in /usr/local/lib/python3.6/dist-packages (from tensorflow) (0.7.1)\n",
            "Requirement already satisfied: wheel>=0.26 in /usr/local/lib/python3.6/dist-packages (from tensorflow) (0.33.4)\n",
            "Requirement already satisfied: termcolor>=1.1.0 in /usr/local/lib/python3.6/dist-packages (from tensorflow) (1.1.0)\n",
            "Requirement already satisfied: keras-preprocessing>=1.0.5 in /usr/local/lib/python3.6/dist-packages (from tensorflow) (1.1.0)\n",
            "Requirement already satisfied: google-pasta>=0.1.6 in /usr/local/lib/python3.6/dist-packages (from tensorflow) (0.1.7)\n",
            "Requirement already satisfied: gast>=0.2.0 in /usr/local/lib/python3.6/dist-packages (from tensorflow) (0.2.2)\n",
            "Requirement already satisfied: protobuf>=3.6.1 in /usr/local/lib/python3.6/dist-packages (from tensorflow) (3.7.1)\n",
            "Requirement already satisfied: keras-applications>=1.0.6 in /usr/local/lib/python3.6/dist-packages (from tensorflow) (1.0.8)\n",
            "Requirement already satisfied: tensorboard<1.14.0,>=1.13.0 in /usr/local/lib/python3.6/dist-packages (from tensorflow) (1.13.1)\n",
            "Requirement already satisfied: numpy<2.0,>=1.14.5 in /usr/local/lib/python3.6/dist-packages (from tensorflow) (1.16.4)\n",
            "Requirement already satisfied: six>=1.10.0 in /usr/local/lib/python3.6/dist-packages (from tensorflow) (1.12.0)\n",
            "Requirement already satisfied: wrapt>=1.11.1 in /usr/local/lib/python3.6/dist-packages (from tensorflow) (1.11.1)\n",
            "Requirement already satisfied: astor>=0.6.0 in /usr/local/lib/python3.6/dist-packages (from tensorflow) (0.8.0)\n",
            "Requirement already satisfied: setuptools in /usr/local/lib/python3.6/dist-packages (from protobuf>=3.6.1->tensorflow) (41.0.1)\n",
            "Requirement already satisfied: h5py in /usr/local/lib/python3.6/dist-packages (from keras-applications>=1.0.6->tensorflow) (2.8.0)\n",
            "Requirement already satisfied: werkzeug>=0.11.15 in /usr/local/lib/python3.6/dist-packages (from tensorboard<1.14.0,>=1.13.0->tensorflow) (0.15.4)\n",
            "Requirement already satisfied: markdown>=2.6.8 in /usr/local/lib/python3.6/dist-packages (from tensorboard<1.14.0,>=1.13.0->tensorflow) (3.1.1)\n"
          ],
          "name": "stdout"
        }
      ]
    },
    {
      "cell_type": "code",
      "metadata": {
        "id": "9APGENCAUeSn",
        "colab_type": "code",
        "colab": {}
      },
      "source": [
        "from tensorflow.keras import Sequential\n",
        "from tensorflow.keras.layers import Dense, LSTM"
      ],
      "execution_count": 0,
      "outputs": []
    },
    {
      "cell_type": "code",
      "metadata": {
        "id": "dHSn-tvmUpPa",
        "colab_type": "code",
        "colab": {
          "base_uri": "https://localhost:8080/",
          "height": 377
        },
        "outputId": "e4937da0-2ce8-4b05-aa51-37606ff951ca"
      },
      "source": [
        "model = Sequential()\n",
        "model.add(LSTM(units=30, return_sequences=True, input_shape=(X.shape[1],2)))\n",
        "model.add(LSTM(units=30, return_sequences=True))\n",
        "model.add(LSTM(units=30))\n",
        "model.add(Dense(units=1))\n",
        "\n",
        "model.summary()"
      ],
      "execution_count": 23,
      "outputs": [
        {
          "output_type": "stream",
          "text": [
            "WARNING: Logging before flag parsing goes to stderr.\n",
            "W0616 17:32:05.783452 140376562694016 deprecation.py:506] From /usr/local/lib/python3.6/dist-packages/tensorflow/python/ops/init_ops.py:1251: calling VarianceScaling.__init__ (from tensorflow.python.ops.init_ops) with dtype is deprecated and will be removed in a future version.\n",
            "Instructions for updating:\n",
            "Call initializer instance with the dtype argument instead of passing it to the constructor\n"
          ],
          "name": "stderr"
        },
        {
          "output_type": "stream",
          "text": [
            "Model: \"sequential\"\n",
            "_________________________________________________________________\n",
            "Layer (type)                 Output Shape              Param #   \n",
            "=================================================================\n",
            "lstm (LSTM)                  (None, 50, 30)            3960      \n",
            "_________________________________________________________________\n",
            "lstm_1 (LSTM)                (None, 50, 30)            7320      \n",
            "_________________________________________________________________\n",
            "lstm_2 (LSTM)                (None, 30)                7320      \n",
            "_________________________________________________________________\n",
            "dense (Dense)                (None, 1)                 31        \n",
            "=================================================================\n",
            "Total params: 18,631\n",
            "Trainable params: 18,631\n",
            "Non-trainable params: 0\n",
            "_________________________________________________________________\n"
          ],
          "name": "stdout"
        }
      ]
    },
    {
      "cell_type": "code",
      "metadata": {
        "id": "yJ28SK_NWJtz",
        "colab_type": "code",
        "colab": {}
      },
      "source": [
        "model.compile(optimizer='adam', loss='mean_squared_error')"
      ],
      "execution_count": 0,
      "outputs": []
    },
    {
      "cell_type": "code",
      "metadata": {
        "id": "xI7US8dVWpOy",
        "colab_type": "code",
        "colab": {
          "base_uri": "https://localhost:8080/",
          "height": 6905
        },
        "outputId": "caa175ca-2845-42e1-b6a2-f75dbf2ba61d"
      },
      "source": [
        "model.fit(X,y,epochs=200, batch_size=32)"
      ],
      "execution_count": 26,
      "outputs": [
        {
          "output_type": "stream",
          "text": [
            "W0616 17:35:07.429735 140376562694016 deprecation.py:323] From /usr/local/lib/python3.6/dist-packages/tensorflow/python/ops/math_grad.py:1250: add_dispatch_support.<locals>.wrapper (from tensorflow.python.ops.array_ops) is deprecated and will be removed in a future version.\n",
            "Instructions for updating:\n",
            "Use tf.where in 2.0, which has the same broadcast rule as np.where\n"
          ],
          "name": "stderr"
        },
        {
          "output_type": "stream",
          "text": [
            "Epoch 1/200\n",
            "1208/1208 [==============================] - 5s 4ms/sample - loss: 0.0459\n",
            "Epoch 2/200\n",
            "1208/1208 [==============================] - 4s 3ms/sample - loss: 0.0020\n",
            "Epoch 3/200\n",
            "1208/1208 [==============================] - 3s 3ms/sample - loss: 0.0018\n",
            "Epoch 4/200\n",
            "1208/1208 [==============================] - 3s 3ms/sample - loss: 0.0016\n",
            "Epoch 5/200\n",
            "1208/1208 [==============================] - 3s 3ms/sample - loss: 0.0015\n",
            "Epoch 6/200\n",
            "1208/1208 [==============================] - 3s 3ms/sample - loss: 0.0015\n",
            "Epoch 7/200\n",
            "1208/1208 [==============================] - 3s 3ms/sample - loss: 0.0015\n",
            "Epoch 8/200\n",
            "1208/1208 [==============================] - 3s 3ms/sample - loss: 0.0015\n",
            "Epoch 9/200\n",
            "1208/1208 [==============================] - 3s 3ms/sample - loss: 0.0014\n",
            "Epoch 10/200\n",
            "1208/1208 [==============================] - 3s 3ms/sample - loss: 0.0014\n",
            "Epoch 11/200\n",
            "1208/1208 [==============================] - 4s 3ms/sample - loss: 0.0015\n",
            "Epoch 12/200\n",
            "1208/1208 [==============================] - 4s 3ms/sample - loss: 0.0015\n",
            "Epoch 13/200\n",
            "1208/1208 [==============================] - 4s 3ms/sample - loss: 0.0014\n",
            "Epoch 14/200\n",
            "1208/1208 [==============================] - 3s 3ms/sample - loss: 0.0014\n",
            "Epoch 15/200\n",
            "1208/1208 [==============================] - 3s 3ms/sample - loss: 0.0014\n",
            "Epoch 16/200\n",
            "1208/1208 [==============================] - 3s 3ms/sample - loss: 0.0013\n",
            "Epoch 17/200\n",
            "1208/1208 [==============================] - 4s 3ms/sample - loss: 0.0013\n",
            "Epoch 18/200\n",
            "1208/1208 [==============================] - 3s 3ms/sample - loss: 0.0013\n",
            "Epoch 19/200\n",
            "1208/1208 [==============================] - 3s 3ms/sample - loss: 0.0012\n",
            "Epoch 20/200\n",
            "1208/1208 [==============================] - 3s 3ms/sample - loss: 0.0012\n",
            "Epoch 21/200\n",
            "1208/1208 [==============================] - 3s 3ms/sample - loss: 0.0011\n",
            "Epoch 22/200\n",
            "1208/1208 [==============================] - 3s 3ms/sample - loss: 0.0012\n",
            "Epoch 23/200\n",
            "1208/1208 [==============================] - 3s 3ms/sample - loss: 0.0013\n",
            "Epoch 24/200\n",
            "1208/1208 [==============================] - 3s 3ms/sample - loss: 0.0016\n",
            "Epoch 25/200\n",
            "1208/1208 [==============================] - 3s 3ms/sample - loss: 0.0013\n",
            "Epoch 26/200\n",
            "1208/1208 [==============================] - 3s 3ms/sample - loss: 0.0012\n",
            "Epoch 27/200\n",
            "1208/1208 [==============================] - 3s 3ms/sample - loss: 0.0011\n",
            "Epoch 28/200\n",
            "1208/1208 [==============================] - 3s 3ms/sample - loss: 0.0011\n",
            "Epoch 29/200\n",
            "1208/1208 [==============================] - 4s 3ms/sample - loss: 0.0011\n",
            "Epoch 30/200\n",
            "1208/1208 [==============================] - 4s 3ms/sample - loss: 0.0011\n",
            "Epoch 31/200\n",
            "1208/1208 [==============================] - 4s 3ms/sample - loss: 0.0010\n",
            "Epoch 32/200\n",
            "1208/1208 [==============================] - 4s 3ms/sample - loss: 0.0011\n",
            "Epoch 33/200\n",
            "1208/1208 [==============================] - 3s 3ms/sample - loss: 0.0010\n",
            "Epoch 34/200\n",
            "1208/1208 [==============================] - 3s 3ms/sample - loss: 0.0011\n",
            "Epoch 35/200\n",
            "1208/1208 [==============================] - 3s 3ms/sample - loss: 0.0010\n",
            "Epoch 36/200\n",
            "1208/1208 [==============================] - 3s 3ms/sample - loss: 9.6063e-04\n",
            "Epoch 37/200\n",
            "1208/1208 [==============================] - 3s 3ms/sample - loss: 9.6777e-04\n",
            "Epoch 38/200\n",
            "1208/1208 [==============================] - 4s 3ms/sample - loss: 9.3331e-04\n",
            "Epoch 39/200\n",
            "1208/1208 [==============================] - 4s 3ms/sample - loss: 9.7818e-04\n",
            "Epoch 40/200\n",
            "1208/1208 [==============================] - 3s 3ms/sample - loss: 9.2517e-04\n",
            "Epoch 41/200\n",
            "1208/1208 [==============================] - 3s 3ms/sample - loss: 9.4811e-04\n",
            "Epoch 42/200\n",
            "1208/1208 [==============================] - 3s 3ms/sample - loss: 9.3710e-04\n",
            "Epoch 43/200\n",
            "1208/1208 [==============================] - 3s 3ms/sample - loss: 8.8408e-04\n",
            "Epoch 44/200\n",
            "1208/1208 [==============================] - 3s 3ms/sample - loss: 9.2705e-04\n",
            "Epoch 45/200\n",
            "1208/1208 [==============================] - 3s 3ms/sample - loss: 9.1026e-04\n",
            "Epoch 46/200\n",
            "1208/1208 [==============================] - 3s 3ms/sample - loss: 8.1899e-04\n",
            "Epoch 47/200\n",
            "1208/1208 [==============================] - 3s 3ms/sample - loss: 8.9479e-04\n",
            "Epoch 48/200\n",
            "1208/1208 [==============================] - 3s 3ms/sample - loss: 8.1097e-04\n",
            "Epoch 49/200\n",
            "1208/1208 [==============================] - 3s 3ms/sample - loss: 8.2856e-04\n",
            "Epoch 50/200\n",
            "1208/1208 [==============================] - 3s 3ms/sample - loss: 8.3575e-04\n",
            "Epoch 51/200\n",
            "1208/1208 [==============================] - 3s 3ms/sample - loss: 7.4357e-04\n",
            "Epoch 52/200\n",
            "1208/1208 [==============================] - 3s 3ms/sample - loss: 8.0439e-04\n",
            "Epoch 53/200\n",
            "1208/1208 [==============================] - 4s 3ms/sample - loss: 7.2274e-04\n",
            "Epoch 54/200\n",
            "1208/1208 [==============================] - 3s 3ms/sample - loss: 6.8081e-04\n",
            "Epoch 55/200\n",
            "1208/1208 [==============================] - 3s 3ms/sample - loss: 7.9870e-04\n",
            "Epoch 56/200\n",
            "1208/1208 [==============================] - 3s 3ms/sample - loss: 7.1452e-04\n",
            "Epoch 57/200\n",
            "1208/1208 [==============================] - 3s 3ms/sample - loss: 6.7385e-04\n",
            "Epoch 58/200\n",
            "1208/1208 [==============================] - 3s 3ms/sample - loss: 6.7788e-04\n",
            "Epoch 59/200\n",
            "1208/1208 [==============================] - 4s 3ms/sample - loss: 7.1873e-04\n",
            "Epoch 60/200\n",
            "1208/1208 [==============================] - 3s 3ms/sample - loss: 6.5343e-04\n",
            "Epoch 61/200\n",
            "1208/1208 [==============================] - 4s 3ms/sample - loss: 6.7405e-04\n",
            "Epoch 62/200\n",
            "1208/1208 [==============================] - 4s 3ms/sample - loss: 6.3891e-04\n",
            "Epoch 63/200\n",
            "1208/1208 [==============================] - 3s 3ms/sample - loss: 6.3520e-04\n",
            "Epoch 64/200\n",
            "1208/1208 [==============================] - 3s 3ms/sample - loss: 6.1898e-04\n",
            "Epoch 65/200\n",
            "1208/1208 [==============================] - 3s 3ms/sample - loss: 5.3825e-04\n",
            "Epoch 66/200\n",
            "1208/1208 [==============================] - 3s 3ms/sample - loss: 5.7515e-04\n",
            "Epoch 67/200\n",
            "1208/1208 [==============================] - 3s 3ms/sample - loss: 5.8428e-04\n",
            "Epoch 68/200\n",
            "1208/1208 [==============================] - 3s 3ms/sample - loss: 5.6349e-04\n",
            "Epoch 69/200\n",
            "1208/1208 [==============================] - 3s 3ms/sample - loss: 5.3108e-04\n",
            "Epoch 70/200\n",
            "1208/1208 [==============================] - 3s 3ms/sample - loss: 4.7384e-04\n",
            "Epoch 71/200\n",
            "1208/1208 [==============================] - 4s 3ms/sample - loss: 4.7746e-04\n",
            "Epoch 72/200\n",
            "1208/1208 [==============================] - 3s 3ms/sample - loss: 4.9386e-04\n",
            "Epoch 73/200\n",
            "1208/1208 [==============================] - 3s 3ms/sample - loss: 4.8377e-04\n",
            "Epoch 74/200\n",
            "1208/1208 [==============================] - 3s 3ms/sample - loss: 5.2467e-04\n",
            "Epoch 75/200\n",
            "1208/1208 [==============================] - 3s 3ms/sample - loss: 4.3714e-04\n",
            "Epoch 76/200\n",
            "1208/1208 [==============================] - 3s 3ms/sample - loss: 4.2532e-04\n",
            "Epoch 77/200\n",
            "1208/1208 [==============================] - 3s 3ms/sample - loss: 4.1173e-04\n",
            "Epoch 78/200\n",
            "1208/1208 [==============================] - 3s 3ms/sample - loss: 4.2960e-04\n",
            "Epoch 79/200\n",
            "1208/1208 [==============================] - 3s 3ms/sample - loss: 4.0437e-04\n",
            "Epoch 80/200\n",
            "1208/1208 [==============================] - 3s 3ms/sample - loss: 4.1658e-04\n",
            "Epoch 81/200\n",
            "1208/1208 [==============================] - 3s 3ms/sample - loss: 3.8157e-04\n",
            "Epoch 82/200\n",
            "1208/1208 [==============================] - 4s 3ms/sample - loss: 3.9077e-04\n",
            "Epoch 83/200\n",
            "1208/1208 [==============================] - 4s 3ms/sample - loss: 4.0719e-04\n",
            "Epoch 84/200\n",
            "1208/1208 [==============================] - 4s 3ms/sample - loss: 4.8358e-04\n",
            "Epoch 85/200\n",
            "1208/1208 [==============================] - 4s 3ms/sample - loss: 3.6543e-04\n",
            "Epoch 86/200\n",
            "1208/1208 [==============================] - 4s 3ms/sample - loss: 3.4700e-04\n",
            "Epoch 87/200\n",
            "1208/1208 [==============================] - 3s 3ms/sample - loss: 3.4651e-04\n",
            "Epoch 88/200\n",
            "1208/1208 [==============================] - 3s 3ms/sample - loss: 3.4680e-04\n",
            "Epoch 89/200\n",
            "1208/1208 [==============================] - 3s 3ms/sample - loss: 3.6452e-04\n",
            "Epoch 90/200\n",
            "1208/1208 [==============================] - 3s 3ms/sample - loss: 3.2725e-04\n",
            "Epoch 91/200\n",
            "1208/1208 [==============================] - 4s 3ms/sample - loss: 4.4367e-04\n",
            "Epoch 92/200\n",
            "1208/1208 [==============================] - 4s 3ms/sample - loss: 3.4119e-04\n",
            "Epoch 93/200\n",
            "1208/1208 [==============================] - 3s 3ms/sample - loss: 3.5506e-04\n",
            "Epoch 94/200\n",
            "1208/1208 [==============================] - 3s 3ms/sample - loss: 3.4697e-04\n",
            "Epoch 95/200\n",
            "1208/1208 [==============================] - 3s 3ms/sample - loss: 3.4611e-04\n",
            "Epoch 96/200\n",
            "1208/1208 [==============================] - 3s 3ms/sample - loss: 3.6465e-04\n",
            "Epoch 97/200\n",
            "1208/1208 [==============================] - 3s 3ms/sample - loss: 3.9383e-04\n",
            "Epoch 98/200\n",
            "1208/1208 [==============================] - 4s 3ms/sample - loss: 3.0327e-04\n",
            "Epoch 99/200\n",
            "1208/1208 [==============================] - 4s 3ms/sample - loss: 3.1380e-04\n",
            "Epoch 100/200\n",
            "1208/1208 [==============================] - 4s 3ms/sample - loss: 3.3091e-04\n",
            "Epoch 101/200\n",
            "1208/1208 [==============================] - 4s 3ms/sample - loss: 2.9739e-04\n",
            "Epoch 102/200\n",
            "1208/1208 [==============================] - 4s 3ms/sample - loss: 2.9632e-04\n",
            "Epoch 103/200\n",
            "1208/1208 [==============================] - 3s 3ms/sample - loss: 2.7152e-04\n",
            "Epoch 104/200\n",
            "1208/1208 [==============================] - 4s 3ms/sample - loss: 3.3249e-04\n",
            "Epoch 105/200\n",
            "1208/1208 [==============================] - 3s 3ms/sample - loss: 2.8024e-04\n",
            "Epoch 106/200\n",
            "1208/1208 [==============================] - 3s 3ms/sample - loss: 2.8954e-04\n",
            "Epoch 107/200\n",
            "1208/1208 [==============================] - 3s 3ms/sample - loss: 2.7714e-04\n",
            "Epoch 108/200\n",
            "1208/1208 [==============================] - 3s 3ms/sample - loss: 2.7575e-04\n",
            "Epoch 109/200\n",
            "1208/1208 [==============================] - 3s 3ms/sample - loss: 3.0498e-04\n",
            "Epoch 110/200\n",
            "1208/1208 [==============================] - 3s 3ms/sample - loss: 2.5517e-04\n",
            "Epoch 111/200\n",
            "1208/1208 [==============================] - 3s 3ms/sample - loss: 2.7601e-04\n",
            "Epoch 112/200\n",
            "1208/1208 [==============================] - 3s 3ms/sample - loss: 2.3854e-04\n",
            "Epoch 113/200\n",
            "1208/1208 [==============================] - 4s 3ms/sample - loss: 2.4966e-04\n",
            "Epoch 114/200\n",
            "1208/1208 [==============================] - 3s 3ms/sample - loss: 2.4055e-04\n",
            "Epoch 115/200\n",
            "1208/1208 [==============================] - 3s 3ms/sample - loss: 2.6346e-04\n",
            "Epoch 116/200\n",
            "1208/1208 [==============================] - 4s 3ms/sample - loss: 2.3623e-04\n",
            "Epoch 117/200\n",
            "1208/1208 [==============================] - 3s 3ms/sample - loss: 2.6076e-04\n",
            "Epoch 118/200\n",
            "1208/1208 [==============================] - 3s 3ms/sample - loss: 2.6227e-04\n",
            "Epoch 119/200\n",
            "1208/1208 [==============================] - 4s 3ms/sample - loss: 2.7622e-04\n",
            "Epoch 120/200\n",
            "1208/1208 [==============================] - 3s 3ms/sample - loss: 2.5312e-04\n",
            "Epoch 121/200\n",
            "1208/1208 [==============================] - 3s 3ms/sample - loss: 2.1890e-04\n",
            "Epoch 122/200\n",
            "1208/1208 [==============================] - 3s 3ms/sample - loss: 2.4635e-04\n",
            "Epoch 123/200\n",
            "1208/1208 [==============================] - 4s 3ms/sample - loss: 2.3632e-04\n",
            "Epoch 124/200\n",
            "1208/1208 [==============================] - 3s 3ms/sample - loss: 2.4028e-04\n",
            "Epoch 125/200\n",
            "1208/1208 [==============================] - 4s 3ms/sample - loss: 2.1774e-04\n",
            "Epoch 126/200\n",
            "1208/1208 [==============================] - 3s 3ms/sample - loss: 2.8669e-04\n",
            "Epoch 127/200\n",
            "1208/1208 [==============================] - 3s 3ms/sample - loss: 2.2817e-04\n",
            "Epoch 128/200\n",
            "1208/1208 [==============================] - 3s 3ms/sample - loss: 2.1059e-04\n",
            "Epoch 129/200\n",
            "1208/1208 [==============================] - 3s 3ms/sample - loss: 2.0630e-04\n",
            "Epoch 130/200\n",
            "1208/1208 [==============================] - 3s 3ms/sample - loss: 2.1528e-04\n",
            "Epoch 131/200\n",
            "1208/1208 [==============================] - 3s 3ms/sample - loss: 2.8405e-04\n",
            "Epoch 132/200\n",
            "1208/1208 [==============================] - 3s 3ms/sample - loss: 2.7214e-04\n",
            "Epoch 133/200\n",
            "1208/1208 [==============================] - 3s 3ms/sample - loss: 2.2221e-04\n",
            "Epoch 134/200\n",
            "1208/1208 [==============================] - 3s 3ms/sample - loss: 2.3889e-04\n",
            "Epoch 135/200\n",
            "1208/1208 [==============================] - 3s 3ms/sample - loss: 2.1502e-04\n",
            "Epoch 136/200\n",
            "1208/1208 [==============================] - 3s 3ms/sample - loss: 2.1730e-04\n",
            "Epoch 137/200\n",
            "1208/1208 [==============================] - 3s 3ms/sample - loss: 1.9603e-04\n",
            "Epoch 138/200\n",
            "1208/1208 [==============================] - 3s 3ms/sample - loss: 2.0093e-04\n",
            "Epoch 139/200\n",
            "1208/1208 [==============================] - 3s 3ms/sample - loss: 2.0474e-04\n",
            "Epoch 140/200\n",
            "1208/1208 [==============================] - 3s 3ms/sample - loss: 1.9659e-04\n",
            "Epoch 141/200\n",
            "1208/1208 [==============================] - 3s 3ms/sample - loss: 2.4057e-04\n",
            "Epoch 142/200\n",
            "1208/1208 [==============================] - 3s 3ms/sample - loss: 2.1607e-04\n",
            "Epoch 143/200\n",
            "1208/1208 [==============================] - 3s 3ms/sample - loss: 2.6717e-04\n",
            "Epoch 144/200\n",
            "1208/1208 [==============================] - 4s 3ms/sample - loss: 2.4202e-04\n",
            "Epoch 145/200\n",
            "1208/1208 [==============================] - 4s 3ms/sample - loss: 2.4385e-04\n",
            "Epoch 146/200\n",
            "1208/1208 [==============================] - 4s 3ms/sample - loss: 2.3748e-04\n",
            "Epoch 147/200\n",
            "1208/1208 [==============================] - 4s 3ms/sample - loss: 2.0131e-04\n",
            "Epoch 148/200\n",
            "1208/1208 [==============================] - 4s 3ms/sample - loss: 1.9675e-04\n",
            "Epoch 149/200\n",
            "1208/1208 [==============================] - 3s 3ms/sample - loss: 1.9980e-04\n",
            "Epoch 150/200\n",
            "1208/1208 [==============================] - 3s 3ms/sample - loss: 2.2031e-04\n",
            "Epoch 151/200\n",
            "1208/1208 [==============================] - 4s 3ms/sample - loss: 2.2768e-04\n",
            "Epoch 152/200\n",
            "1208/1208 [==============================] - 3s 3ms/sample - loss: 2.1774e-04\n",
            "Epoch 153/200\n",
            "1208/1208 [==============================] - 4s 3ms/sample - loss: 2.0801e-04\n",
            "Epoch 154/200\n",
            "1208/1208 [==============================] - 3s 3ms/sample - loss: 2.2269e-04\n",
            "Epoch 155/200\n",
            "1208/1208 [==============================] - 3s 3ms/sample - loss: 2.2559e-04\n",
            "Epoch 156/200\n",
            "1208/1208 [==============================] - 3s 3ms/sample - loss: 1.9398e-04\n",
            "Epoch 157/200\n",
            "1208/1208 [==============================] - 3s 3ms/sample - loss: 1.9995e-04\n",
            "Epoch 158/200\n",
            "1208/1208 [==============================] - 3s 3ms/sample - loss: 2.2424e-04\n",
            "Epoch 159/200\n",
            "1208/1208 [==============================] - 3s 3ms/sample - loss: 1.9434e-04\n",
            "Epoch 160/200\n",
            "1208/1208 [==============================] - 3s 3ms/sample - loss: 2.5267e-04\n",
            "Epoch 161/200\n",
            "1208/1208 [==============================] - 3s 3ms/sample - loss: 2.3548e-04\n",
            "Epoch 162/200\n",
            "1208/1208 [==============================] - 3s 3ms/sample - loss: 1.8408e-04\n",
            "Epoch 163/200\n",
            "1208/1208 [==============================] - 3s 3ms/sample - loss: 1.8933e-04\n",
            "Epoch 164/200\n",
            "1208/1208 [==============================] - 3s 3ms/sample - loss: 1.8114e-04\n",
            "Epoch 165/200\n",
            "1208/1208 [==============================] - 3s 3ms/sample - loss: 1.8817e-04\n",
            "Epoch 166/200\n",
            "1208/1208 [==============================] - 3s 3ms/sample - loss: 2.3148e-04\n",
            "Epoch 167/200\n",
            "1208/1208 [==============================] - 4s 3ms/sample - loss: 1.9938e-04\n",
            "Epoch 168/200\n",
            "1208/1208 [==============================] - 4s 3ms/sample - loss: 1.9739e-04\n",
            "Epoch 169/200\n",
            "1208/1208 [==============================] - 4s 3ms/sample - loss: 2.5178e-04\n",
            "Epoch 170/200\n",
            "1208/1208 [==============================] - 4s 3ms/sample - loss: 2.1490e-04\n",
            "Epoch 171/200\n",
            "1208/1208 [==============================] - 3s 3ms/sample - loss: 2.5055e-04\n",
            "Epoch 172/200\n",
            "1208/1208 [==============================] - 3s 3ms/sample - loss: 2.4350e-04\n",
            "Epoch 173/200\n",
            "1208/1208 [==============================] - 4s 3ms/sample - loss: 2.2498e-04\n",
            "Epoch 174/200\n",
            "1208/1208 [==============================] - 4s 3ms/sample - loss: 1.8904e-04\n",
            "Epoch 175/200\n",
            "1208/1208 [==============================] - 4s 3ms/sample - loss: 1.9418e-04\n",
            "Epoch 176/200\n",
            "1208/1208 [==============================] - 4s 3ms/sample - loss: 2.0269e-04\n",
            "Epoch 177/200\n",
            "1208/1208 [==============================] - 4s 3ms/sample - loss: 2.1051e-04\n",
            "Epoch 178/200\n",
            "1208/1208 [==============================] - 3s 3ms/sample - loss: 1.9879e-04\n",
            "Epoch 179/200\n",
            "1208/1208 [==============================] - 3s 3ms/sample - loss: 1.7550e-04\n",
            "Epoch 180/200\n",
            "1208/1208 [==============================] - 3s 3ms/sample - loss: 1.9129e-04\n",
            "Epoch 181/200\n",
            "1208/1208 [==============================] - 3s 3ms/sample - loss: 1.8729e-04\n",
            "Epoch 182/200\n",
            "1208/1208 [==============================] - 3s 3ms/sample - loss: 1.8083e-04\n",
            "Epoch 183/200\n",
            "1208/1208 [==============================] - 4s 3ms/sample - loss: 1.8660e-04\n",
            "Epoch 184/200\n",
            "1208/1208 [==============================] - 3s 3ms/sample - loss: 1.7617e-04\n",
            "Epoch 185/200\n",
            "1208/1208 [==============================] - 3s 3ms/sample - loss: 1.8297e-04\n",
            "Epoch 186/200\n",
            "1208/1208 [==============================] - 4s 3ms/sample - loss: 2.0407e-04\n",
            "Epoch 187/200\n",
            "1208/1208 [==============================] - 3s 3ms/sample - loss: 1.8544e-04\n",
            "Epoch 188/200\n",
            "1208/1208 [==============================] - 4s 3ms/sample - loss: 1.8360e-04\n",
            "Epoch 189/200\n",
            "1208/1208 [==============================] - 4s 3ms/sample - loss: 2.0462e-04\n",
            "Epoch 190/200\n",
            "1208/1208 [==============================] - 4s 3ms/sample - loss: 1.8741e-04\n",
            "Epoch 191/200\n",
            "1208/1208 [==============================] - 4s 3ms/sample - loss: 1.9785e-04\n",
            "Epoch 192/200\n",
            "1208/1208 [==============================] - 4s 3ms/sample - loss: 2.1203e-04\n",
            "Epoch 193/200\n",
            "1208/1208 [==============================] - 4s 3ms/sample - loss: 2.1583e-04\n",
            "Epoch 194/200\n",
            "1208/1208 [==============================] - 3s 3ms/sample - loss: 1.9930e-04\n",
            "Epoch 195/200\n",
            "1208/1208 [==============================] - 3s 3ms/sample - loss: 1.9997e-04\n",
            "Epoch 196/200\n",
            "1208/1208 [==============================] - 3s 3ms/sample - loss: 1.9753e-04\n",
            "Epoch 197/200\n",
            "1208/1208 [==============================] - 3s 3ms/sample - loss: 1.7652e-04\n",
            "Epoch 198/200\n",
            "1208/1208 [==============================] - 3s 3ms/sample - loss: 1.9403e-04\n",
            "Epoch 199/200\n",
            "1208/1208 [==============================] - 3s 3ms/sample - loss: 1.8182e-04\n",
            "Epoch 200/200\n",
            "1208/1208 [==============================] - 3s 3ms/sample - loss: 1.8581e-04\n"
          ],
          "name": "stdout"
        },
        {
          "output_type": "execute_result",
          "data": {
            "text/plain": [
              "<tensorflow.python.keras.callbacks.History at 0x7fabb643d198>"
            ]
          },
          "metadata": {
            "tags": []
          },
          "execution_count": 26
        }
      ]
    },
    {
      "cell_type": "code",
      "metadata": {
        "id": "oSml8BrSWzeU",
        "colab_type": "code",
        "colab": {}
      },
      "source": [
        "predicted_value = model.predict(X_test)"
      ],
      "execution_count": 0,
      "outputs": []
    },
    {
      "cell_type": "code",
      "metadata": {
        "id": "ZmzKb6X6XfWy",
        "colab_type": "code",
        "colab": {
          "base_uri": "https://localhost:8080/",
          "height": 34
        },
        "outputId": "f44ec049-b7e2-43f7-8be6-e3d82a22c6aa"
      },
      "source": [
        "import tensorflow as tf\n",
        "acc, acc_op  = tf.metrics.accuracy(labels=input_data[lookback:test_size+(2*lookback),1], predictions=predicted_value)\n",
        "print(acc, acc_op)"
      ],
      "execution_count": 40,
      "outputs": [
        {
          "output_type": "stream",
          "text": [
            "Tensor(\"accuracy_4/value:0\", shape=(), dtype=float32) Tensor(\"accuracy_4/update_op:0\", shape=(), dtype=float32)\n"
          ],
          "name": "stdout"
        }
      ]
    },
    {
      "cell_type": "code",
      "metadata": {
        "id": "P7Pz_BpuXGTe",
        "colab_type": "code",
        "colab": {
          "base_uri": "https://localhost:8080/",
          "height": 295
        },
        "outputId": "e9ebd160-2cff-4a90-c2d8-df93db527359"
      },
      "source": [
        "plt.plot(predicted_value, color= 'red')\n",
        "plt.plot(input_data[lookback:test_size+(2*lookback),1], color='green')\n",
        "plt.title(\"Opening price of stocks sold\")\n",
        "plt.xlabel(\"Time (latest-> oldest)\")\n",
        "plt.ylabel(\"Stock Opening Price\")\n",
        "plt.show()"
      ],
      "execution_count": 35,
      "outputs": [
        {
          "output_type": "display_data",
          "data": {
            "image/png": "[encoded data removed]",
            "text/plain": [
              "<Figure size 432x288 with 1 Axes>"
            ]
          },
          "metadata": {
            "tags": []
          }
        }
      ]
    }
  ]
}