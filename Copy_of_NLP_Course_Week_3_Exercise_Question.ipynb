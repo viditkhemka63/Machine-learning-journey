{
  "nbformat": 4,
  "nbformat_minor": 0,
  "metadata": {
    "colab": {
      "name": "Copy of NLP Course - Week 3 Exercise Question.ipynb",
      "version": "0.3.2",
      "provenance": [],
      "include_colab_link": true
    },
    "kernelspec": {
      "name": "python3",
      "display_name": "Python 3"
    },
    "accelerator": "TPU"
  },
  "cells": [
    {
      "cell_type": "markdown",
      "metadata": {
        "id": "view-in-github",
        "colab_type": "text"
      },
      "source": [
        "<a href=\"https://colab.research.google.com/github/viditkhemka63/Machine-learning-journey/blob/master/Copy_of_NLP_Course_Week_3_Exercise_Question.ipynb\" target=\"_parent\"><img src=\"https://colab.research.google.com/assets/colab-badge.svg\" alt=\"Open In Colab\"/></a>"
      ]
    },
    {
      "cell_type": "code",
      "metadata": {
        "id": "hmA6EzkQJ5jt",
        "colab_type": "code",
        "colab": {}
      },
      "source": [
        "import json\n",
        "import tensorflow as tf\n",
        "import csv\n",
        "import random\n",
        "import numpy as np\n",
        "\n",
        "from tensorflow.keras.preprocessing.text import Tokenizer\n",
        "from tensorflow.keras.preprocessing.sequence import pad_sequences\n",
        "from tensorflow.keras.utils import to_categorical\n",
        "from tensorflow.keras import regularizers\n",
        "\n",
        "\n",
        "embedding_dim = 100\n",
        "max_length = 16\n",
        "trunc_type='post'\n",
        "padding_type='post'\n",
        "oov_tok = \"<OOV>\"\n",
        "training_size= 160000 #Your dataset size here. Experiment using smaller values (i.e. 16000), but don't forget to train on at least 160000 to see the best effects\n",
        "test_portion=.1\n",
        "\n",
        "corpus = []\n"
      ],
      "execution_count": 0,
      "outputs": []
    },
    {
      "cell_type": "code",
      "metadata": {
        "id": "bM0l_dORKqE0",
        "colab_type": "code",
        "outputId": "42892ae8-b27d-4e02-9729-3f9a250d05d3",
        "colab": {
          "base_uri": "https://localhost:8080/",
          "height": 204
        }
      },
      "source": [
        "\n",
        "# Note that I cleaned the Stanford dataset to remove LATIN1 encoding to make it easier for Python CSV reader\n",
        "# You can do that yourself with:\n",
        "# iconv -f LATIN1 -t UTF8 training.1600000.processed.noemoticon.csv -o training_cleaned.csv\n",
        "# I then hosted it on my site to make it easier to use in this notebook\n",
        "\n",
        "!wget --no-check-certificate \\\n",
        "    https://storage.googleapis.com/laurencemoroney-blog.appspot.com/training_cleaned.csv \\\n",
        "    -O /tmp/training_cleaned.csv\n",
        "\n",
        "\n",
        "\n",
        "\n"
      ],
      "execution_count": 2,
      "outputs": [
        {
          "output_type": "stream",
          "text": [
            "--2019-06-25 09:15:56--  https://storage.googleapis.com/laurencemoroney-blog.appspot.com/training_cleaned.csv\n",
            "Resolving storage.googleapis.com (storage.googleapis.com)... 74.125.201.128, 2607:f8b0:4001:c03::80\n",
            "Connecting to storage.googleapis.com (storage.googleapis.com)|74.125.201.128|:443... connected.\n",
            "HTTP request sent, awaiting response... 200 OK\n",
            "Length: 238942690 (228M) [application/octet-stream]\n",
            "Saving to: ‘/tmp/training_cleaned.csv’\n",
            "\n",
            "/tmp/training_clean 100%[===================>] 227.87M   121MB/s    in 1.9s    \n",
            "\n",
            "2019-06-25 09:15:58 (121 MB/s) - ‘/tmp/training_cleaned.csv’ saved [238942690/238942690]\n",
            "\n"
          ],
          "name": "stdout"
        }
      ]
    },
    {
      "cell_type": "code",
      "metadata": {
        "id": "4Rn6xv7ecQ1Q",
        "colab_type": "code",
        "colab": {
          "base_uri": "https://localhost:8080/",
          "height": 306
        },
        "outputId": "a0d53167-f434-427c-b592-2c3ed032761a"
      },
      "source": [
        "import pandas as pd \n",
        "\n",
        "data = pd.read_csv('/tmp/training_cleaned.csv')\n",
        "data.head()"
      ],
      "execution_count": 3,
      "outputs": [
        {
          "output_type": "execute_result",
          "data": {
            "text/html": [
              "<div>\n",
              "<style scoped>\n",
              "    .dataframe tbody tr th:only-of-type {\n",
              "        vertical-align: middle;\n",
              "    }\n",
              "\n",
              "    .dataframe tbody tr th {\n",
              "        vertical-align: top;\n",
              "    }\n",
              "\n",
              "    .dataframe thead th {\n",
              "        text-align: right;\n",
              "    }\n",
              "</style>\n",
              "<table border=\"1\" class=\"dataframe\">\n",
              "  <thead>\n",
              "    <tr style=\"text-align: right;\">\n",
              "      <th></th>\n",
              "      <th>0</th>\n",
              "      <th>1467810369</th>\n",
              "      <th>Mon Apr 06 22:19:45 PDT 2009</th>\n",
              "      <th>NO_QUERY</th>\n",
              "      <th>_TheSpecialOne_</th>\n",
              "      <th>@switchfoot http://twitpic.com/2y1zl - Awww, that's a bummer.  You shoulda got David Carr of Third Day to do it. ;D</th>\n",
              "    </tr>\n",
              "  </thead>\n",
              "  <tbody>\n",
              "    <tr>\n",
              "      <th>0</th>\n",
              "      <td>0</td>\n",
              "      <td>1467810672</td>\n",
              "      <td>Mon Apr 06 22:19:49 PDT 2009</td>\n",
              "      <td>NO_QUERY</td>\n",
              "      <td>scotthamilton</td>\n",
              "      <td>is upset that he can't update his Facebook by ...</td>\n",
              "    </tr>\n",
              "    <tr>\n",
              "      <th>1</th>\n",
              "      <td>0</td>\n",
              "      <td>1467810917</td>\n",
              "      <td>Mon Apr 06 22:19:53 PDT 2009</td>\n",
              "      <td>NO_QUERY</td>\n",
              "      <td>mattycus</td>\n",
              "      <td>@Kenichan I dived many times for the ball. Man...</td>\n",
              "    </tr>\n",
              "    <tr>\n",
              "      <th>2</th>\n",
              "      <td>0</td>\n",
              "      <td>1467811184</td>\n",
              "      <td>Mon Apr 06 22:19:57 PDT 2009</td>\n",
              "      <td>NO_QUERY</td>\n",
              "      <td>ElleCTF</td>\n",
              "      <td>my whole body feels itchy and like its on fire</td>\n",
              "    </tr>\n",
              "    <tr>\n",
              "      <th>3</th>\n",
              "      <td>0</td>\n",
              "      <td>1467811193</td>\n",
              "      <td>Mon Apr 06 22:19:57 PDT 2009</td>\n",
              "      <td>NO_QUERY</td>\n",
              "      <td>Karoli</td>\n",
              "      <td>@nationwideclass no, it's not behaving at all....</td>\n",
              "    </tr>\n",
              "    <tr>\n",
              "      <th>4</th>\n",
              "      <td>0</td>\n",
              "      <td>1467811372</td>\n",
              "      <td>Mon Apr 06 22:20:00 PDT 2009</td>\n",
              "      <td>NO_QUERY</td>\n",
              "      <td>joy_wolf</td>\n",
              "      <td>@Kwesidei not the whole crew</td>\n",
              "    </tr>\n",
              "  </tbody>\n",
              "</table>\n",
              "</div>"
            ],
            "text/plain": [
              "   0  ...  @switchfoot http://twitpic.com/2y1zl - Awww, that's a bummer.  You shoulda got David Carr of Third Day to do it. ;D\n",
              "0  0  ...  is upset that he can't update his Facebook by ...                                                                  \n",
              "1  0  ...  @Kenichan I dived many times for the ball. Man...                                                                  \n",
              "2  0  ...    my whole body feels itchy and like its on fire                                                                   \n",
              "3  0  ...  @nationwideclass no, it's not behaving at all....                                                                  \n",
              "4  0  ...                      @Kwesidei not the whole crew                                                                   \n",
              "\n",
              "[5 rows x 6 columns]"
            ]
          },
          "metadata": {
            "tags": []
          },
          "execution_count": 3
        }
      ]
    },
    {
      "cell_type": "code",
      "metadata": {
        "id": "T6c3qs5icOlf",
        "colab_type": "code",
        "colab": {}
      },
      "source": [
        "num_sentences = 0\n",
        "\n",
        "with open(\"/tmp/training_cleaned.csv\") as csvfile:\n",
        "    reader = csv.reader(csvfile, delimiter=',')\n",
        "    for row in reader:\n",
        "      # Your Code here. Create list items where the first item is the text, found in row[5], and the second is the label. Note that the label is a '0' or a '4' in the text. When it's the former, make\n",
        "      # your label to be 0, otherwise 1. Keep a count of the number of sentences in num_sentences\n",
        "        list_item=[]\n",
        "        \n",
        "        list_item.append( row[5] )\n",
        "        label = row[0]\n",
        "        \n",
        "        if label == '0':\n",
        "          list_item.append(0)\n",
        "        else:\n",
        "          list_item.append(1)\n",
        "        \n",
        "        # YOUR CODE HERE\n",
        "        num_sentences = num_sentences + 1\n",
        "        corpus.append(list_item)"
      ],
      "execution_count": 0,
      "outputs": []
    },
    {
      "cell_type": "code",
      "metadata": {
        "id": "3kxblBUjEUX-",
        "colab_type": "code",
        "outputId": "00f5e702-a957-4ce6-8ae5-3b6892288a14",
        "colab": {
          "base_uri": "https://localhost:8080/",
          "height": 68
        }
      },
      "source": [
        "print(num_sentences)\n",
        "print(len(corpus))\n",
        "print(corpus[1])\n",
        "\n",
        "# Expected Output:\n",
        "# 1600000\n",
        "# 1600000\n",
        "# [\"is upset that he can't update his Facebook by texting it... and might cry as a result  School today also. Blah!\", 0]"
      ],
      "execution_count": 5,
      "outputs": [
        {
          "output_type": "stream",
          "text": [
            "1600000\n",
            "1600000\n",
            "[\"is upset that he can't update his Facebook by texting it... and might cry as a result  School today also. Blah!\", 0]\n"
          ],
          "name": "stdout"
        }
      ]
    },
    {
      "cell_type": "code",
      "metadata": {
        "id": "ohOGz24lsNAD",
        "colab_type": "code",
        "colab": {}
      },
      "source": [
        "sentences=[]\n",
        "labels=[]\n",
        "random.shuffle(corpus)\n",
        "for x in range(training_size):\n",
        "    sentences.append(corpus[x][0])\n",
        "    labels.append(corpus[x][1])\n",
        "\n",
        "\n",
        "tokenizer = Tokenizer()\n",
        "tokenizer.fit_on_texts(sentences)\n",
        "\n",
        "word_index = tokenizer.word_index\n",
        "vocab_size=len(word_index)\n",
        "\n",
        "sequences = tokenizer.texts_to_sequences(sentences)\n",
        "padded = pad_sequences(sequences, maxlen=max_length, padding=padding_type, truncating=trunc_type)\n",
        "\n",
        "split = int(test_portion * training_size)\n",
        "\n",
        "test_sequences = padded[0:split]\n",
        "training_sequences = padded[split:training_size]\n",
        "test_labels = labels[0:split]\n",
        "training_labels = labels[split:training_size]"
      ],
      "execution_count": 0,
      "outputs": []
    },
    {
      "cell_type": "code",
      "metadata": {
        "id": "gIrtRem1En3N",
        "colab_type": "code",
        "outputId": "fafcf6b9-c971-4f0f-b794-a6b1ee0d5525",
        "colab": {
          "base_uri": "https://localhost:8080/",
          "height": 51
        }
      },
      "source": [
        "print(vocab_size)\n",
        "print(word_index['i'])\n",
        "# Expected Output\n",
        "# 138858\n",
        "# 1"
      ],
      "execution_count": 7,
      "outputs": [
        {
          "output_type": "stream",
          "text": [
            "139177\n",
            "1\n"
          ],
          "name": "stdout"
        }
      ]
    },
    {
      "cell_type": "code",
      "metadata": {
        "id": "C1zdgJkusRh0",
        "colab_type": "code",
        "outputId": "b7b01a9e-4e42-4995-cf85-504478429269",
        "colab": {
          "base_uri": "https://localhost:8080/",
          "height": 204
        }
      },
      "source": [
        "# Note this is the 100 dimension version of GloVe from Stanford\n",
        "# I unzipped and hosted it on my site to make this notebook easier\n",
        "!wget --no-check-certificate \\\n",
        "    https://storage.googleapis.com/laurencemoroney-blog.appspot.com/glove.6B.100d.txt \\\n",
        "    -O /tmp/glove.6B.100d.txt\n",
        "embeddings_index = {};\n",
        "with open('/tmp/glove.6B.100d.txt') as f:\n",
        "    for line in f:\n",
        "        values = line.split();\n",
        "        word = values[0];\n",
        "        coefs = np.asarray(values[1:], dtype='float32');\n",
        "        embeddings_index[word] = coefs;\n",
        "\n",
        "embeddings_matrix = np.zeros((vocab_size+1, embedding_dim));\n",
        "for word, i in word_index.items():\n",
        "    embedding_vector = embeddings_index.get(word);\n",
        "    if embedding_vector is not None:\n",
        "        embeddings_matrix[i] = embedding_vector;"
      ],
      "execution_count": 8,
      "outputs": [
        {
          "output_type": "stream",
          "text": [
            "--2019-06-25 09:16:42--  https://storage.googleapis.com/laurencemoroney-blog.appspot.com/glove.6B.100d.txt\n",
            "Resolving storage.googleapis.com (storage.googleapis.com)... 108.177.111.128, 2607:f8b0:4001:c07::80\n",
            "Connecting to storage.googleapis.com (storage.googleapis.com)|108.177.111.128|:443... connected.\n",
            "HTTP request sent, awaiting response... 200 OK\n",
            "Length: 347116733 (331M) [text/plain]\n",
            "Saving to: ‘/tmp/glove.6B.100d.txt’\n",
            "\n",
            "/tmp/glove.6B.100d. 100%[===================>] 331.04M   118MB/s    in 2.8s    \n",
            "\n",
            "2019-06-25 09:16:45 (118 MB/s) - ‘/tmp/glove.6B.100d.txt’ saved [347116733/347116733]\n",
            "\n"
          ],
          "name": "stdout"
        }
      ]
    },
    {
      "cell_type": "code",
      "metadata": {
        "id": "71NLk_lpFLNt",
        "colab_type": "code",
        "outputId": "f7b17c56-f1a6-49a3-f0d2-d1d852528ae4",
        "colab": {
          "base_uri": "https://localhost:8080/",
          "height": 34
        }
      },
      "source": [
        "print(len(embeddings_matrix))\n",
        "# Expected Output\n",
        "# 138859"
      ],
      "execution_count": 9,
      "outputs": [
        {
          "output_type": "stream",
          "text": [
            "139178\n"
          ],
          "name": "stdout"
        }
      ]
    },
    {
      "cell_type": "code",
      "metadata": {
        "colab_type": "code",
        "id": "iKKvbuEBOGFz",
        "colab": {
          "base_uri": "https://localhost:8080/",
          "height": 1000
        },
        "outputId": "a7d56dfe-7066-42be-b364-f604ea6e373d"
      },
      "source": [
        "model = tf.keras.Sequential([\n",
        "    tf.keras.layers.Embedding(vocab_size+1, embedding_dim, input_length=max_length, weights=[embeddings_matrix], trainable=False),\n",
        "    tf.keras.layers.Dropout(0.2),\n",
        "    tf.keras.layers.Conv1D(64, 5, activation='relu'),\n",
        "    tf.keras.layers.MaxPooling1D(pool_size=4),\n",
        "    tf.keras.layers.LSTM(64),\n",
        "    tf.keras.layers.Dense(1, activation='sigmoid')\n",
        "])\n",
        "model.compile(loss='binary_crossentropy',optimizer='adam',metrics=['accuracy'])\n",
        "model.summary()\n",
        "\n",
        "num_epochs = 50\n",
        "history = model.fit(training_sequences, training_labels, epochs=num_epochs, validation_data=(test_sequences, test_labels), verbose=2)\n",
        "\n",
        "print(\"Training Complete\")"
      ],
      "execution_count": 10,
      "outputs": [
        {
          "output_type": "stream",
          "text": [
            "WARNING: Logging before flag parsing goes to stderr.\n",
            "W0625 09:17:01.826797 140625212708736 deprecation.py:506] From /usr/local/lib/python3.6/dist-packages/tensorflow/python/keras/initializers.py:119: calling RandomUniform.__init__ (from tensorflow.python.ops.init_ops) with dtype is deprecated and will be removed in a future version.\n",
            "Instructions for updating:\n",
            "Call initializer instance with the dtype argument instead of passing it to the constructor\n",
            "W0625 09:17:01.831581 140625212708736 deprecation.py:506] From /usr/local/lib/python3.6/dist-packages/tensorflow/python/ops/init_ops.py:1251: calling VarianceScaling.__init__ (from tensorflow.python.ops.init_ops) with dtype is deprecated and will be removed in a future version.\n",
            "Instructions for updating:\n",
            "Call initializer instance with the dtype argument instead of passing it to the constructor\n",
            "W0625 09:17:02.822142 140625212708736 deprecation.py:323] From /usr/local/lib/python3.6/dist-packages/tensorflow/python/ops/nn_impl.py:180: add_dispatch_support.<locals>.wrapper (from tensorflow.python.ops.array_ops) is deprecated and will be removed in a future version.\n",
            "Instructions for updating:\n",
            "Use tf.where in 2.0, which has the same broadcast rule as np.where\n"
          ],
          "name": "stderr"
        },
        {
          "output_type": "stream",
          "text": [
            "Model: \"sequential\"\n",
            "_________________________________________________________________\n",
            "Layer (type)                 Output Shape              Param #   \n",
            "=================================================================\n",
            "embedding (Embedding)        (None, 16, 100)           13917800  \n",
            "_________________________________________________________________\n",
            "dropout (Dropout)            (None, 16, 100)           0         \n",
            "_________________________________________________________________\n",
            "conv1d (Conv1D)              (None, 12, 64)            32064     \n",
            "_________________________________________________________________\n",
            "max_pooling1d (MaxPooling1D) (None, 3, 64)             0         \n",
            "_________________________________________________________________\n",
            "lstm (LSTM)                  (None, 64)                33024     \n",
            "_________________________________________________________________\n",
            "dense (Dense)                (None, 1)                 65        \n",
            "=================================================================\n",
            "Total params: 13,982,953\n",
            "Trainable params: 65,153\n",
            "Non-trainable params: 13,917,800\n",
            "_________________________________________________________________\n",
            "Train on 144000 samples, validate on 16000 samples\n",
            "Epoch 1/50\n",
            "144000/144000 - 41s - loss: 0.5673 - acc: 0.6984 - val_loss: 0.5374 - val_acc: 0.7173\n",
            "Epoch 2/50\n",
            "144000/144000 - 41s - loss: 0.5248 - acc: 0.7344 - val_loss: 0.5181 - val_acc: 0.7404\n",
            "Epoch 3/50\n",
            "144000/144000 - 41s - loss: 0.5099 - acc: 0.7442 - val_loss: 0.5055 - val_acc: 0.7480\n",
            "Epoch 4/50\n",
            "144000/144000 - 44s - loss: 0.4974 - acc: 0.7541 - val_loss: 0.5195 - val_acc: 0.7429\n",
            "Epoch 5/50\n",
            "144000/144000 - 42s - loss: 0.4890 - acc: 0.7577 - val_loss: 0.4989 - val_acc: 0.7536\n",
            "Epoch 6/50\n",
            "144000/144000 - 45s - loss: 0.4824 - acc: 0.7632 - val_loss: 0.5003 - val_acc: 0.7508\n",
            "Epoch 7/50\n",
            "144000/144000 - 42s - loss: 0.4768 - acc: 0.7671 - val_loss: 0.5119 - val_acc: 0.7466\n",
            "Epoch 8/50\n",
            "144000/144000 - 42s - loss: 0.4715 - acc: 0.7709 - val_loss: 0.5028 - val_acc: 0.7556\n",
            "Epoch 9/50\n",
            "144000/144000 - 41s - loss: 0.4675 - acc: 0.7723 - val_loss: 0.5015 - val_acc: 0.7548\n",
            "Epoch 10/50\n",
            "144000/144000 - 41s - loss: 0.4653 - acc: 0.7739 - val_loss: 0.4989 - val_acc: 0.7538\n",
            "Epoch 11/50\n",
            "144000/144000 - 41s - loss: 0.4601 - acc: 0.7776 - val_loss: 0.4995 - val_acc: 0.7546\n",
            "Epoch 12/50\n",
            "144000/144000 - 41s - loss: 0.4576 - acc: 0.7782 - val_loss: 0.5041 - val_acc: 0.7548\n",
            "Epoch 13/50\n",
            "144000/144000 - 43s - loss: 0.4557 - acc: 0.7795 - val_loss: 0.5063 - val_acc: 0.7527\n",
            "Epoch 14/50\n",
            "144000/144000 - 44s - loss: 0.4524 - acc: 0.7813 - val_loss: 0.5045 - val_acc: 0.7549\n",
            "Epoch 15/50\n",
            "144000/144000 - 43s - loss: 0.4523 - acc: 0.7818 - val_loss: 0.5079 - val_acc: 0.7522\n",
            "Epoch 16/50\n",
            "144000/144000 - 45s - loss: 0.4493 - acc: 0.7839 - val_loss: 0.5051 - val_acc: 0.7544\n",
            "Epoch 17/50\n",
            "144000/144000 - 41s - loss: 0.4483 - acc: 0.7850 - val_loss: 0.5103 - val_acc: 0.7501\n",
            "Epoch 18/50\n",
            "144000/144000 - 42s - loss: 0.4458 - acc: 0.7851 - val_loss: 0.5037 - val_acc: 0.7556\n",
            "Epoch 19/50\n",
            "144000/144000 - 42s - loss: 0.4443 - acc: 0.7872 - val_loss: 0.5073 - val_acc: 0.7556\n",
            "Epoch 20/50\n",
            "144000/144000 - 43s - loss: 0.4438 - acc: 0.7870 - val_loss: 0.5077 - val_acc: 0.7527\n",
            "Epoch 21/50\n",
            "144000/144000 - 45s - loss: 0.4419 - acc: 0.7882 - val_loss: 0.5095 - val_acc: 0.7529\n",
            "Epoch 22/50\n",
            "144000/144000 - 41s - loss: 0.4410 - acc: 0.7883 - val_loss: 0.5078 - val_acc: 0.7533\n",
            "Epoch 23/50\n",
            "144000/144000 - 44s - loss: 0.4397 - acc: 0.7886 - val_loss: 0.5046 - val_acc: 0.7535\n",
            "Epoch 24/50\n",
            "144000/144000 - 43s - loss: 0.4391 - acc: 0.7900 - val_loss: 0.5107 - val_acc: 0.7496\n",
            "Epoch 25/50\n",
            "144000/144000 - 45s - loss: 0.4380 - acc: 0.7909 - val_loss: 0.5059 - val_acc: 0.7518\n",
            "Epoch 26/50\n",
            "144000/144000 - 46s - loss: 0.4366 - acc: 0.7909 - val_loss: 0.5135 - val_acc: 0.7503\n",
            "Epoch 27/50\n",
            "144000/144000 - 46s - loss: 0.4368 - acc: 0.7910 - val_loss: 0.5167 - val_acc: 0.7451\n",
            "Epoch 28/50\n",
            "144000/144000 - 44s - loss: 0.4348 - acc: 0.7922 - val_loss: 0.5122 - val_acc: 0.7506\n",
            "Epoch 29/50\n",
            "144000/144000 - 45s - loss: 0.4355 - acc: 0.7931 - val_loss: 0.5140 - val_acc: 0.7517\n",
            "Epoch 30/50\n",
            "144000/144000 - 46s - loss: 0.4334 - acc: 0.7930 - val_loss: 0.5075 - val_acc: 0.7506\n",
            "Epoch 31/50\n",
            "144000/144000 - 43s - loss: 0.4348 - acc: 0.7925 - val_loss: 0.5126 - val_acc: 0.7536\n",
            "Epoch 32/50\n",
            "144000/144000 - 44s - loss: 0.4338 - acc: 0.7928 - val_loss: 0.5158 - val_acc: 0.7505\n",
            "Epoch 33/50\n",
            "144000/144000 - 43s - loss: 0.4330 - acc: 0.7930 - val_loss: 0.5093 - val_acc: 0.7501\n",
            "Epoch 34/50\n",
            "144000/144000 - 43s - loss: 0.4323 - acc: 0.7941 - val_loss: 0.5124 - val_acc: 0.7509\n",
            "Epoch 35/50\n",
            "144000/144000 - 43s - loss: 0.4318 - acc: 0.7941 - val_loss: 0.5119 - val_acc: 0.7488\n",
            "Epoch 36/50\n",
            "144000/144000 - 45s - loss: 0.4320 - acc: 0.7939 - val_loss: 0.5158 - val_acc: 0.7524\n",
            "Epoch 37/50\n",
            "144000/144000 - 42s - loss: 0.4307 - acc: 0.7940 - val_loss: 0.5196 - val_acc: 0.7512\n",
            "Epoch 38/50\n",
            "144000/144000 - 44s - loss: 0.4303 - acc: 0.7937 - val_loss: 0.5165 - val_acc: 0.7515\n",
            "Epoch 39/50\n",
            "144000/144000 - 43s - loss: 0.4302 - acc: 0.7940 - val_loss: 0.5205 - val_acc: 0.7523\n",
            "Epoch 40/50\n",
            "144000/144000 - 44s - loss: 0.4299 - acc: 0.7951 - val_loss: 0.5171 - val_acc: 0.7481\n",
            "Epoch 41/50\n",
            "144000/144000 - 44s - loss: 0.4312 - acc: 0.7932 - val_loss: 0.5181 - val_acc: 0.7498\n",
            "Epoch 42/50\n",
            "144000/144000 - 45s - loss: 0.4294 - acc: 0.7956 - val_loss: 0.5168 - val_acc: 0.7504\n",
            "Epoch 43/50\n",
            "144000/144000 - 41s - loss: 0.4280 - acc: 0.7969 - val_loss: 0.5133 - val_acc: 0.7515\n",
            "Epoch 44/50\n",
            "144000/144000 - 42s - loss: 0.4275 - acc: 0.7967 - val_loss: 0.5151 - val_acc: 0.7517\n",
            "Epoch 45/50\n",
            "144000/144000 - 42s - loss: 0.4299 - acc: 0.7946 - val_loss: 0.5163 - val_acc: 0.7493\n",
            "Epoch 46/50\n",
            "144000/144000 - 42s - loss: 0.4287 - acc: 0.7956 - val_loss: 0.5112 - val_acc: 0.7487\n",
            "Epoch 47/50\n",
            "144000/144000 - 42s - loss: 0.4296 - acc: 0.7954 - val_loss: 0.5154 - val_acc: 0.7527\n",
            "Epoch 48/50\n",
            "144000/144000 - 44s - loss: 0.4282 - acc: 0.7959 - val_loss: 0.5194 - val_acc: 0.7483\n",
            "Epoch 49/50\n",
            "144000/144000 - 43s - loss: 0.4282 - acc: 0.7964 - val_loss: 0.5134 - val_acc: 0.7477\n",
            "Epoch 50/50\n",
            "144000/144000 - 41s - loss: 0.4290 - acc: 0.7954 - val_loss: 0.5178 - val_acc: 0.7501\n",
            "Training Complete\n"
          ],
          "name": "stdout"
        }
      ]
    },
    {
      "cell_type": "code",
      "metadata": {
        "id": "qxju4ItJKO8F",
        "colab_type": "code",
        "colab": {
          "base_uri": "https://localhost:8080/",
          "height": 607
        },
        "outputId": "714f5910-1260-4458-9509-ff2fbc9fba71"
      },
      "source": [
        "import matplotlib.image  as mpimg\n",
        "import matplotlib.pyplot as plt\n",
        "\n",
        "#-----------------------------------------------------------\n",
        "# Retrieve a list of list results on training and test data\n",
        "# sets for each training epoch\n",
        "#-----------------------------------------------------------\n",
        "acc=history.history['acc']\n",
        "val_acc=history.history['val_acc']\n",
        "loss=history.history['loss']\n",
        "val_loss=history.history['val_loss']\n",
        "\n",
        "epochs=range(len(acc)) # Get number of epochs\n",
        "\n",
        "#------------------------------------------------\n",
        "# Plot training and validation accuracy per epoch\n",
        "#------------------------------------------------\n",
        "plt.plot(epochs, acc, 'r')\n",
        "plt.plot(epochs, val_acc, 'b')\n",
        "plt.title('Training and validation accuracy')\n",
        "plt.xlabel(\"Epochs\")\n",
        "plt.ylabel(\"Accuracy\")\n",
        "plt.legend([\"Accuracy\", \"Validation Accuracy\"])\n",
        "\n",
        "plt.figure()\n",
        "\n",
        "#------------------------------------------------\n",
        "# Plot training and validation loss per epoch\n",
        "#------------------------------------------------\n",
        "plt.plot(epochs, loss, 'r')\n",
        "plt.plot(epochs, val_loss, 'b')\n",
        "plt.title('Training and validation loss')\n",
        "plt.xlabel(\"Epochs\")\n",
        "plt.ylabel(\"Loss\")\n",
        "plt.legend([\"Loss\", \"Validation Loss\"])\n",
        "\n",
        "plt.figure()\n",
        "\n",
        "\n",
        "# Expected Output\n",
        "# A chart where the validation loss does not increase sharply!"
      ],
      "execution_count": 11,
      "outputs": [
        {
          "output_type": "execute_result",
          "data": {
            "text/plain": [
              "<Figure size 432x288 with 0 Axes>"
            ]
          },
          "metadata": {
            "tags": []
          },
          "execution_count": 11
        },
        {
          "output_type": "display_data",
          "data": {
            "image/png": "[encoded data removed]",
            "text/plain": [
              "<Figure size 432x288 with 1 Axes>"
            ]
          },
          "metadata": {
            "tags": []
          }
        },
        {
          "output_type": "display_data",
          "data": {
            "image/png": "[encoded data removed]",
            "text/plain": [
              "<Figure size 432x288 with 1 Axes>"
            ]
          },
          "metadata": {
            "tags": []
          }
        },
        {
          "output_type": "display_data",
          "data": {
            "text/plain": [
              "<Figure size 432x288 with 0 Axes>"
            ]
          },
          "metadata": {
            "tags": []
          }
        }
      ]
    }
  ]
}